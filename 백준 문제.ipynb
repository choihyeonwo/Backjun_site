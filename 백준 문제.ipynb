{
 "cells": [
  {
   "cell_type": "markdown",
   "id": "294f984b-73a5-4baf-bd15-2a3ae3a56ea7",
   "metadata": {},
   "source": [
    "# 재귀 함수"
   ]
  },
  {
   "cell_type": "markdown",
   "id": "b64ef8f2-c169-4d56-960c-895e0416b3d1",
   "metadata": {},
   "source": [
    "#### 약수 구하기"
   ]
  },
  {
   "cell_type": "code",
   "execution_count": 39,
   "id": "9442749b-74c6-42b0-b1ec-c1b6ea808329",
   "metadata": {},
   "outputs": [
    {
     "name": "stdin",
     "output_type": "stream",
     "text": [
      " 2735 1\n"
     ]
    },
    {
     "name": "stdout",
     "output_type": "stream",
     "text": [
      "1\n"
     ]
    }
   ],
   "source": [
    "\n",
    "\n",
    "a,b = map(int,input().split())\n",
    "\n",
    "result = []\n",
    "for i in range(1, a+1):\n",
    "    if a % i ==  0:\n",
    "        result.append(i)\n",
    "#         print(result)\n",
    "if len(result) < b :\n",
    "    print(0)\n",
    "else: \n",
    "    print(result[b - 1])"
   ]
  },
  {
   "cell_type": "code",
   "execution_count": 23,
   "id": "3d0678c9-e287-41b2-aff1-8d7a070145a0",
   "metadata": {},
   "outputs": [
    {
     "name": "stdin",
     "output_type": "stream",
     "text": [
      " 25 4\n"
     ]
    },
    {
     "data": {
      "text/plain": [
       "0"
      ]
     },
     "execution_count": 23,
     "metadata": {},
     "output_type": "execute_result"
    }
   ],
   "source": [
    "from math import gcd\n",
    "\n",
    "a,b = map(int,input().split())\n",
    "\n",
    "r = a%b \n",
    "def gcd(a,b):\n",
    "    if b == 0:\n",
    "        return a\n",
    "    \n",
    "    if a == 1 | b == 1 :\n",
    "        return 1\n",
    "    \n",
    "    elif r != 0: \n",
    "        return 0\n",
    "    \n",
    "    else:\n",
    "        return gcd(b, r)\n",
    "    \n",
    "gcd(a,b)"
   ]
  },
  {
   "cell_type": "markdown",
   "id": "cbe3c016-98fa-4c61-9090-31dbc66e5a23",
   "metadata": {},
   "source": [
    "## 수 정렬하기"
   ]
  },
  {
   "cell_type": "code",
   "execution_count": 5,
   "id": "c863bf09-ecbe-4f91-93ad-9878c10b92d5",
   "metadata": {},
   "outputs": [
    {
     "name": "stdin",
     "output_type": "stream",
     "text": [
      " 5\n",
      " 5\n",
      " 4\n",
      " 3\n",
      " 2\n",
      " 1\n"
     ]
    },
    {
     "name": "stdout",
     "output_type": "stream",
     "text": [
      "1\n",
      "2\n",
      "3\n",
      "4\n",
      "5\n"
     ]
    }
   ],
   "source": [
    "n= int(input())\n",
    "\n",
    "result = []\n",
    "for i in range(n):\n",
    "    result.append(int(input()))\n",
    "    \n",
    "    result.sort()\n",
    "    \n",
    "for i  in result:\n",
    "    print(i)"
   ]
  },
  {
   "cell_type": "code",
   "execution_count": 20,
   "id": "680981ed-90b2-4396-a338-77d5d1cfb984",
   "metadata": {},
   "outputs": [
    {
     "name": "stdin",
     "output_type": "stream",
     "text": [
      " 5\n",
      " 4\n",
      " 3\n",
      " 2\n",
      " 1\n",
      " 0\n"
     ]
    },
    {
     "name": "stdout",
     "output_type": "stream",
     "text": [
      "2\n",
      "3\n",
      "4\n",
      "5\n",
      "4\n"
     ]
    }
   ],
   "source": [
    "n = int(input())\n",
    "\n",
    "result =[]\n",
    "\n",
    "for i in range(n):\n",
    "    result.append(int(input()))\n",
    "\n",
    "a = len(m)\n",
    "\n",
    "for i in range(1, a):\n",
    "    for j in range(i, 0 , -1):\n",
    "        if result[j]< result[j-1]:\n",
    "            result[j],result[j-1] = result[j-1],m[j]\n",
    "        else:\n",
    "            break\n",
    "            \n",
    "for b in result:\n",
    "    print(b)"
   ]
  },
  {
   "cell_type": "markdown",
   "id": "d4a4fe89-cfc7-4fe6-b170-fda2d399f446",
   "metadata": {},
   "source": [
    "##### 삽입정렬 2(유튜브)\n",
    "array = [2,4,5,1,3]\n",
    "\n",
    "for i in range(1, len(array)):\n",
    "    for j in range(i,0,-1):\n",
    "        print(i,j)\n",
    "        if array[j]<array[j-1]:\n",
    "            array[j],array[j-1] = array[j-1],array[j]\n",
    "        else:\n",
    "            break\n",
    "            \n",
    "print(array)\n",
    "\n",
    "\n",
    "\n",
    "\n",
    "def find_ins_idx(r,v):\n",
    "    for i in range(0,len(r)):\n",
    "        if v < r[i]:\n",
    "            return i \n",
    "    return len(r)\n",
    "\n",
    "def ins_sort(a):\n",
    "    result = []\n",
    "    while a:\n",
    "        value = a.pop(0)\n",
    "        \n",
    "        ins_idx = find_ins_idx(result, value)\n",
    "        \n",
    "        result.inset(ins_idx, value)\n",
    "        \n",
    "        return result\n",
    "\n",
    "    \n",
    "    \n",
    "    \n",
    "    \n",
    "d = [2,4,5,1,3]\n",
    "print(ins_sort(d))"
   ]
  },
  {
   "cell_type": "markdown",
   "id": "966402a2-abb5-40e5-b90f-6e0a6e618a11",
   "metadata": {},
   "source": [
    "## 최소 최대 "
   ]
  },
  {
   "cell_type": "code",
   "execution_count": 26,
   "id": "ffcb836f-a23c-4dab-9972-441c6aaa9d9c",
   "metadata": {},
   "outputs": [
    {
     "name": "stdin",
     "output_type": "stream",
     "text": [
      " 5\n",
      " 20 10 35 30 7\n"
     ]
    },
    {
     "name": "stdout",
     "output_type": "stream",
     "text": [
      "7 35\n"
     ]
    }
   ],
   "source": [
    "n = int(input())\n",
    "a  = list(map(int, input().split()))\n",
    "b = len(a)\n",
    "\n",
    "find_min = a[0]\n",
    "find_max = a[0]\n",
    "# result = []\n",
    "\n",
    "for i in a:\n",
    "    if find_min > i:\n",
    "        find_min = i\n",
    "#         print(find_min)\n",
    "    if find_max < i:\n",
    "        find_max = i \n",
    "        \n",
    "print(find_min, find_max)"
   ]
  },
  {
   "cell_type": "markdown",
   "id": "638361ce-0ca4-4bd0-b70a-246a0e618eba",
   "metadata": {},
   "source": [
    "📌정해진 개수의 정수를 한줄에 입력받을 때\n",
    "import sys\n",
    "a,b,c = map(int,sys.stdin.readline().split())"
   ]
  },
  {
   "cell_type": "code",
   "execution_count": null,
   "id": "7bd7cba7-dbe2-4b14-abd7-61029ee5daec",
   "metadata": {},
   "outputs": [],
   "source": [
    " 임의의 개수의 정수를 한줄에 입력받아 리스트에 저장할 때\n",
    "import sys\n",
    "data = list(map(int,sys.stdin.readline().split()))"
   ]
  },
  {
   "cell_type": "code",
   "execution_count": 27,
   "id": "db7ccb5e-6a87-4a55-8677-19d8e9fadcd0",
   "metadata": {},
   "outputs": [
    {
     "name": "stdin",
     "output_type": "stream",
     "text": [
      " 5 1 2 3 4 \n"
     ]
    },
    {
     "name": "stdout",
     "output_type": "stream",
     "text": [
      "[5, 1, 2, 3, 4]\n"
     ]
    }
   ],
   "source": [
    "#임의의 개수의 정수를 한줄에 입력받아 리스트에 저장할 때\n",
    "data = list(map(int,input().split()))\n",
    "print(data)"
   ]
  },
  {
   "cell_type": "code",
   "execution_count": null,
   "id": "ac9f4cce-4e33-4d65-a2b9-ef15eb6fcba3",
   "metadata": {},
   "outputs": [],
   "source": [
    "# 임의의 개수의 정수를 n줄 입력받아 2차원 리스트에 저장할 때\n",
    "import sys\n",
    "data = []\n",
    "n = int(sys.stdin.readline())\n",
    "for i in range(n):\n",
    "    data.append(list(map(int,sys.stdin.readline().split())))"
   ]
  },
  {
   "cell_type": "code",
   "execution_count": 29,
   "id": "827aca65-c27c-4474-8def-ac6132d8f132",
   "metadata": {},
   "outputs": [
    {
     "name": "stdin",
     "output_type": "stream",
     "text": [
      " 3\n",
      " 1 2 3\n"
     ]
    },
    {
     "name": "stdout",
     "output_type": "stream",
     "text": [
      "[[1, 2, 3]]\n"
     ]
    },
    {
     "name": "stdin",
     "output_type": "stream",
     "text": [
      " 1 2 3 4\n"
     ]
    },
    {
     "name": "stdout",
     "output_type": "stream",
     "text": [
      "[[1, 2, 3], [1, 2, 3, 4]]\n"
     ]
    },
    {
     "name": "stdin",
     "output_type": "stream",
     "text": [
      " 1 2 3 4 5\n"
     ]
    },
    {
     "name": "stdout",
     "output_type": "stream",
     "text": [
      "[[1, 2, 3], [1, 2, 3, 4], [1, 2, 3, 4, 5]]\n"
     ]
    }
   ],
   "source": [
    "data = []\n",
    "n = int(input())\n",
    "for _ in  range(n):\n",
    "    data.append(list(map(int,input().split())))\n",
    "    print(data)"
   ]
  },
  {
   "cell_type": "code",
   "execution_count": null,
   "id": "d5608c9e-7b6f-4738-a39d-116ed0114507",
   "metadata": {},
   "outputs": [],
   "source": [
    "#문자열 n줄을 입력받아 리스트에 저장할 때\n",
    "import sys\n",
    "n = int(sys.stdin.readline())\n",
    "data = [sys.stdin.readline().strip() for i in range(n)]\n",
    "strip()은 문자열 맨 앞과 맨 끝의 공백문자를 제거합니다.\n",
    "\n",
    "👉 입력\n",
    "\n",
    "3\n",
    "안녕안녕\n",
    "나는 지수야\n",
    "헬륨가스 마셨더니 이렇게됐지"
   ]
  },
  {
   "cell_type": "code",
   "execution_count": 31,
   "id": "c2c505b8-c0fe-452e-a1ec-c16bfd1ce7a1",
   "metadata": {},
   "outputs": [
    {
     "name": "stdin",
     "output_type": "stream",
     "text": [
      " 3\n",
      " 안녕\n",
      " 나는 지수야\n",
      " 헬륨가스 마셨더니 이렇게 됐지\n"
     ]
    },
    {
     "name": "stdout",
     "output_type": "stream",
     "text": [
      "[['안녕'], ['나는', '지수야'], ['헬륨가스', '마셨더니', '이렇게', '됐지']]\n"
     ]
    }
   ],
   "source": [
    "n =  int(input())\n",
    "data = [input().split() for _ in range(n)]\n",
    "print(data)"
   ]
  },
  {
   "cell_type": "markdown",
   "id": "b5c8fc93-3e3b-479e-a434-7324461af83c",
   "metadata": {
    "tags": []
   },
   "source": [
    "## 이진수"
   ]
  },
  {
   "attachments": {
    "6ba935ed-4bf7-4fb9-9192-3ff40c15eb2a.png": {
     "image/png": "[encoded data removed]"
    },
    "fba2da5e-899f-4e44-9dc5-b2f2007c2fac.png": {
     "image/png": "[encoded data removed]"
    }
   },
   "cell_type": "markdown",
   "id": "889f4656-a526-4aaa-8cec-8283d4d99819",
   "metadata": {},
   "source": [
    "![image.png](attachment:6ba935ed-4bf7-4fb9-9192-3ff40c15eb2a.png)![image.png](attachment:fba2da5e-899f-4e44-9dc5-b2f2007c2fac.png)"
   ]
  },
  {
   "cell_type": "code",
   "execution_count": 38,
   "id": "5fb48e66-3f79-4725-bd1a-39ef1181dac5",
   "metadata": {},
   "outputs": [
    {
     "name": "stdin",
     "output_type": "stream",
     "text": [
      " 1\n",
      " 13\n"
     ]
    },
    {
     "name": "stdout",
     "output_type": "stream",
     "text": [
      "0 1 2 3 "
     ]
    }
   ],
   "source": [
    "n = int(input())\n",
    "a = int(input())\n",
    "\n",
    "i = 0\n",
    "for _ in range(4):\n",
    "    if a % 2 == 1:\n",
    "        print(i , end=' ')\n",
    "    n = n // 2\n",
    "    i = i + 1\n",
    "    "
   ]
  },
  {
   "cell_type": "code",
   "execution_count": 51,
   "id": "bffd6ab3-8ad3-497f-9922-659d58c97a66",
   "metadata": {},
   "outputs": [
    {
     "name": "stdout",
     "output_type": "stream",
     "text": [
      "[1]\n"
     ]
    }
   ],
   "source": [
    "1\n",
    "result = []\n",
    "\n",
    "result.append(1)\n",
    "print(result)"
   ]
  },
  {
   "cell_type": "code",
   "execution_count": 18,
   "id": "cf652c7d-99dc-4901-87d4-7f06b9dd8a86",
   "metadata": {},
   "outputs": [
    {
     "name": "stdout",
     "output_type": "stream",
     "text": [
      "13\n",
      "6\n",
      "3\n",
      "1\n"
     ]
    }
   ],
   "source": [
    "a = [13, 6, 3, 1]\n",
    "\n",
    "for result in a:\n",
    "    print(result)"
   ]
  },
  {
   "cell_type": "code",
   "execution_count": null,
   "id": "5fc53ed2-8ae8-4ca2-b0c5-19abcb8408ff",
   "metadata": {},
   "outputs": [],
   "source": [
    "n = 13 \n",
    "result = []\n",
    "b = []\n",
    "while n != 0 :\n",
    "    if n % 2 == 1 or n % 2 == 0:\n",
    "        result.append(n)\n",
    "        for a in result:\n",
    "            print(a)\n",
    "    n = n //2 \n",
    "# print(result)    "
   ]
  },
  {
   "cell_type": "markdown",
   "id": "8793bc8a-f8fc-49c0-903a-a6edc0015927",
   "metadata": {},
   "source": [
    "## 피보나치 수열"
   ]
  },
  {
   "cell_type": "code",
   "execution_count": 32,
   "id": "4c1a5bf6-4138-43cc-a7f7-c6fc8d3b65d8",
   "metadata": {},
   "outputs": [
    {
     "name": "stdin",
     "output_type": "stream",
     "text": [
      " 17\n"
     ]
    },
    {
     "data": {
      "text/plain": [
       "1597"
      ]
     },
     "execution_count": 32,
     "metadata": {},
     "output_type": "execute_result"
    }
   ],
   "source": [
    "def fibo(n):\n",
    "    if n == 0 :\n",
    "        return 0\n",
    "    if n == 1:\n",
    "        return 1\n",
    "    else:\n",
    "        return fibo(n - 1) + fibo(n - 2 )\n",
    "print(fibo(int(input())))"
   ]
  },
  {
   "cell_type": "markdown",
   "id": "caf7ca3a-b0c2-4e2d-9f94-f0408fafb46f",
   "metadata": {},
   "source": [
    "## 일곱난쟁이"
   ]
  },
  {
   "cell_type": "code",
   "execution_count": null,
   "id": "6f75f3ab-a113-4417-bcc1-a23f9c0853d5",
   "metadata": {},
   "outputs": [],
   "source": [
    "n =  int(input())\n",
    "data = [input().split() for _ in range(n)]\n",
    "print(data)"
   ]
  },
  {
   "cell_type": "code",
   "execution_count": 52,
   "id": "f36005e4-e503-47b0-844b-1f3c3743c866",
   "metadata": {},
   "outputs": [
    {
     "name": "stdin",
     "output_type": "stream",
     "text": [
      " 20\n",
      " 7\n",
      " 23\n",
      " 19\n",
      " 10\n",
      " 15\n",
      " 25\n",
      " 8\n",
      " 13\n"
     ]
    },
    {
     "name": "stdout",
     "output_type": "stream",
     "text": [
      "0\n",
      "1\n",
      "2\n",
      "3\n",
      "4\n",
      "5\n",
      "6\n",
      "7\n",
      "8\n"
     ]
    }
   ],
   "source": [
    "data = [input().split() for _ in range(9)]\n",
    "# print(data)\n",
    "for i in range(9):\n",
    "    print(i)"
   ]
  },
  {
   "cell_type": "code",
   "execution_count": 19,
   "id": "baf3fdf6-ec3d-4ec6-89b7-fcaf7289b722",
   "metadata": {},
   "outputs": [
    {
     "name": "stdout",
     "output_type": "stream",
     "text": [
      "[20]\n",
      "None\n",
      "[23]\n",
      "None\n",
      "[10]\n",
      "None\n",
      "[25]\n",
      "[8]\n",
      "None\n"
     ]
    }
   ],
   "source": [
    "def sort(a):\n",
    "    n = len(a)\n",
    "    if n <= 1:\n",
    "        return a \n",
    "    \n",
    "    \n",
    "    mid = n // 2\n",
    "    \n",
    "    g1 = sort(a[:mid])\n",
    "    print(g1)\n",
    "    g2 = sort(a[mid:])\n",
    "\n",
    "    \n",
    "d = [20, 7, 23, 19, 10, 15, 25, 8 , 13]\n",
    "print(sort(d))"
   ]
  },
  {
   "cell_type": "markdown",
   "id": "d50c6662-5a3c-4aeb-80d3-3a2351bb4f56",
   "metadata": {},
   "source": [
    "## 1000번"
   ]
  },
  {
   "cell_type": "code",
   "execution_count": 20,
   "id": "92b70800-711a-4dc6-ae40-c6ff4e66f1f7",
   "metadata": {},
   "outputs": [
    {
     "name": "stdin",
     "output_type": "stream",
     "text": [
      " 1 2\n"
     ]
    },
    {
     "name": "stdout",
     "output_type": "stream",
     "text": [
      "3\n"
     ]
    }
   ],
   "source": [
    "a,b = map(int, input().split())\n",
    "\n",
    "print(a + b)"
   ]
  },
  {
   "cell_type": "markdown",
   "id": "e0ac4e2d-bd30-40b8-ab5d-f9058ad2f3f3",
   "metadata": {},
   "source": [
    "## 2257번"
   ]
  },
  {
   "cell_type": "code",
   "execution_count": 21,
   "id": "aae962a5-e881-48fe-99e8-df2bdcf1bfbb",
   "metadata": {},
   "outputs": [
    {
     "name": "stdin",
     "output_type": "stream",
     "text": [
      " Hello World!\n"
     ]
    },
    {
     "name": "stdout",
     "output_type": "stream",
     "text": [
      "Hello World!\n"
     ]
    }
   ],
   "source": [
    "import sys\n",
    "a = sys.stdin.readline().rstrip()\n",
    "print(a)"
   ]
  },
  {
   "cell_type": "code",
   "execution_count": null,
   "id": "4f7504e9-0961-4887-89ea-98230ef1a907",
   "metadata": {},
   "outputs": [],
   "source": [
    "print('강한친구 대한육군')\n",
    "print('강한친구 대한육군')"
   ]
  },
  {
   "cell_type": "markdown",
   "id": "77531e89-6267-49bd-be27-e0304c6e47ce",
   "metadata": {},
   "source": [
    "## 18108번 1998년생인 내가 태국에서는 2541년생? "
   ]
  },
  {
   "cell_type": "code",
   "execution_count": 22,
   "id": "1a61847d-4bfd-4a20-937d-a77c08e33a5e",
   "metadata": {},
   "outputs": [
    {
     "name": "stdin",
     "output_type": "stream",
     "text": [
      " 1998\n"
     ]
    },
    {
     "name": "stdout",
     "output_type": "stream",
     "text": [
      "2541\n"
     ]
    }
   ],
   "source": [
    "n = int(input())\n",
    "\n",
    "print(n - 543)"
   ]
  },
  {
   "cell_type": "markdown",
   "id": "affaca76-6ad1-481f-a5c1-6c5767073656",
   "metadata": {},
   "source": [
    "## 3003번 킹,퀸 룩, 비숍, 나이트, 폰\n",
    "- 체스는 총 16개의 피스를 사용하며, 킹 1개, 퀸 1개, 룩 2개, 비숍 2개, 나이트 2개, 폰 8개로 구성"
   ]
  },
  {
   "cell_type": "code",
   "execution_count": 25,
   "id": "055a1d70-5e1a-4d9b-9a38-98f3c4f88de8",
   "metadata": {},
   "outputs": [
    {
     "name": "stdin",
     "output_type": "stream",
     "text": [
      " 0 1 2 2 2 7\n"
     ]
    },
    {
     "name": "stdout",
     "output_type": "stream",
     "text": [
      "1 0 0 0 0 1 "
     ]
    }
   ],
   "source": [
    "chess = [1, 1, 2, 2, 2, 8]\n",
    "a = list(map(int, input().split()))\n",
    "# print(a)\n",
    "for i in range(6):\n",
    "    print(chess[i]-a[i], end = ' ')"
   ]
  },
  {
   "cell_type": "markdown",
   "id": "1d0b176a-8ccd-4a79-b8c7-65cab52c8d2d",
   "metadata": {},
   "source": [
    "## 10430번 나머지"
   ]
  },
  {
   "cell_type": "code",
   "execution_count": 4,
   "id": "3c5f0d29-6531-447d-b1b7-f44d9eb7bae4",
   "metadata": {},
   "outputs": [
    {
     "name": "stdin",
     "output_type": "stream",
     "text": [
      " 5 8 4\n"
     ]
    },
    {
     "name": "stdout",
     "output_type": "stream",
     "text": [
      "1\n",
      "1\n",
      "0\n",
      "0\n"
     ]
    }
   ],
   "source": [
    "a, b, c = input().split()\n",
    "a = int(a)\n",
    "b= int(b)\n",
    "c = int(c)\n",
    "\n",
    "\n",
    "print((a+b)%c)\n",
    "print(((a%c)+ (b%c))%c)\n",
    "print((a*b)%c) \n",
    "print(((a%c)*(b%c))%c)"
   ]
  },
  {
   "cell_type": "code",
   "execution_count": 2,
   "id": "004a0b8b-eaa0-4a56-bbb5-f7cfc54a73bf",
   "metadata": {},
   "outputs": [
    {
     "name": "stdin",
     "output_type": "stream",
     "text": [
      " 5 8 4\n"
     ]
    },
    {
     "name": "stdout",
     "output_type": "stream",
     "text": [
      "1\n",
      "1\n",
      "0\n",
      "0\n"
     ]
    }
   ],
   "source": [
    "a, b, c = input().split()\n",
    "a = int(a)\n",
    "b = int(b)\n",
    "c = int(c)\n",
    "\n",
    "print((a+b)%c)\n",
    "print(((a%c)+(b%c))%c)\n",
    "print((a*b)%c)\n",
    "print(((a%c)*(b%c))%c)"
   ]
  },
  {
   "cell_type": "markdown",
   "id": "d17004a0-2fac-4fc8-aa58-f6d21885e6d6",
   "metadata": {
    "tags": []
   },
   "source": [
    "## 1330번"
   ]
  },
  {
   "cell_type": "code",
   "execution_count": null,
   "id": "7efa5161-d3f5-4f48-996d-c6f8dbca1907",
   "metadata": {},
   "outputs": [],
   "source": [
    "a,b = map(int, input().split())\n",
    "\n",
    "if a > b:\n",
    "    print('>')\n",
    "elif a < b:\n",
    "    print('<')\n",
    "else:\n",
    "    print('==')"
   ]
  },
  {
   "cell_type": "markdown",
   "id": "7bd715c6-83af-452e-aa3c-0c4b87dfa41e",
   "metadata": {},
   "source": [
    "## 9498번 시험 성적"
   ]
  },
  {
   "cell_type": "code",
   "execution_count": 7,
   "id": "8eea2f84-9ca5-449f-a13f-735aa7c38a70",
   "metadata": {},
   "outputs": [
    {
     "name": "stdin",
     "output_type": "stream",
     "text": [
      " 100\n"
     ]
    },
    {
     "name": "stdout",
     "output_type": "stream",
     "text": [
      "A\n"
     ]
    }
   ],
   "source": [
    "a = int(input())\n",
    "\n",
    "if a >= 90:\n",
    "    print('A')\n",
    "elif a >= 80:\n",
    "    print('B')\n",
    "elif a >= 70:\n",
    "    print('C')\n",
    "elif a >= 60:\n",
    "    print('D')\n",
    "else:\n",
    "    print('F')"
   ]
  },
  {
   "cell_type": "markdown",
   "id": "ff31f926-b730-41d7-9a84-851f9c6bd8c0",
   "metadata": {},
   "source": [
    "## 2753번 윤년"
   ]
  },
  {
   "cell_type": "code",
   "execution_count": 16,
   "id": "7303b0a9-09fd-4909-825a-9a07f5453448",
   "metadata": {},
   "outputs": [
    {
     "name": "stdin",
     "output_type": "stream",
     "text": [
      " 2000\n"
     ]
    },
    {
     "name": "stdout",
     "output_type": "stream",
     "text": [
      "1\n"
     ]
    }
   ],
   "source": [
    "a = int(input())\n",
    "\n",
    "if a % 4 ==0 and a% 100 != 0 or a % 400 ==0:\n",
    "    print(1)\n",
    "else:\n",
    "    print(0)"
   ]
  },
  {
   "cell_type": "markdown",
   "id": "cbb6aee8-427c-4262-8fcf-f7971f7dc156",
   "metadata": {},
   "source": [
    "## 14681번 사사분면"
   ]
  },
  {
   "cell_type": "code",
   "execution_count": 26,
   "id": "ca7f1b9c-4000-4f6d-a6d0-045d0ed775ae",
   "metadata": {},
   "outputs": [
    {
     "name": "stdin",
     "output_type": "stream",
     "text": [
      " 12\n",
      " 15\n"
     ]
    },
    {
     "name": "stdout",
     "output_type": "stream",
     "text": [
      "1\n"
     ]
    }
   ],
   "source": [
    "a= int(input())\n",
    "b = int(input())\n",
    "\n",
    "if a < 0 and b < 0:\n",
    "    print(3)\n",
    "elif a < 0 :\n",
    "    print(2)\n",
    "elif b <0 :\n",
    "    print(4)\n",
    "else:\n",
    "    print(1)\n",
    "    \n",
    "    "
   ]
  },
  {
   "cell_type": "markdown",
   "id": "5e1eba22-59c6-4417-8bdf-d1d05c223943",
   "metadata": {},
   "source": [
    "## 2884번 알람 시계\n",
    "\n",
    "- 45분 일찍 일어나기 (46분 이상이라면 시가 바뀔 필요가 없기 때문에 조건을 a < 45로 잡는다.)"
   ]
  },
  {
   "cell_type": "code",
   "execution_count": 47,
   "id": "21968cfb-c3fa-4171-ac7d-c91b0af2461c",
   "metadata": {},
   "outputs": [
    {
     "name": "stdin",
     "output_type": "stream",
     "text": [
      " 10 10\n"
     ]
    },
    {
     "name": "stdout",
     "output_type": "stream",
     "text": [
      "9 25\n"
     ]
    }
   ],
   "source": [
    "a,b = map(int, input().split())\n",
    "\n",
    "if b <45:\n",
    "    if a == 0:\n",
    "        a = 23\n",
    "        b =b + 60\n",
    "    else:\n",
    "        a = a-1\n",
    "        b = b +60\n",
    "    \n",
    "print(a, b -45)"
   ]
  },
  {
   "cell_type": "code",
   "execution_count": 36,
   "id": "c6d503d2-1446-4748-a830-420c88735b0b",
   "metadata": {},
   "outputs": [
    {
     "data": {
      "text/plain": [
       "25"
      ]
     },
     "execution_count": 36,
     "metadata": {},
     "output_type": "execute_result"
    }
   ],
   "source": [
    "H, M = map(int, input().split())\n",
    "\n",
    "if M < 45 :\t# 분단위가 45분보다 작을 때 \n",
    "    if H == 0 :\t# 0 시이면\n",
    "        H = 23\n",
    "        M += 60\n",
    "    else :\t# 0시가 아니면 (0시보다 크면)\n",
    "        H -= 1\t\n",
    "        M += 60\n",
    "        \n",
    "print(H, M-45)"
   ]
  },
  {
   "cell_type": "markdown",
   "id": "e8340c25-4a0d-45a6-ad3b-4ee447e8911a",
   "metadata": {},
   "source": [
    "##  오븐 시계"
   ]
  },
  {
   "cell_type": "code",
   "execution_count": 64,
   "id": "69923d75-98a5-4ed6-b902-0b00773a29f8",
   "metadata": {},
   "outputs": [
    {
     "name": "stdin",
     "output_type": "stream",
     "text": [
      " 23 48\n",
      " 25\n"
     ]
    },
    {
     "name": "stdout",
     "output_type": "stream",
     "text": [
      "0 13\n"
     ]
    }
   ],
   "source": [
    "a, b = map(int, input().split())\n",
    "c = int(input())\n",
    "\n",
    "hour = (b + c) // 60\n",
    "minute = (b+c) % 60\n",
    "\n",
    "if  b + c >=60:\n",
    "    if(a +hour >= 24):\n",
    "        a = a- 24\n",
    "    a = a + hour\n",
    "    print(a , minute)\n",
    "else:\n",
    "    if a >=24:\n",
    "        a = a- 24\n",
    "    print(a, b+c)"
   ]
  },
  {
   "cell_type": "code",
   "execution_count": 65,
   "id": "94ca350b-a8c6-40a0-83cc-a59ddaf3273a",
   "metadata": {},
   "outputs": [
    {
     "data": {
      "text/plain": [
       "0.21875"
      ]
     },
     "execution_count": 65,
     "metadata": {},
     "output_type": "execute_result"
    }
   ],
   "source": [
    "(1 - (((1/8)**2) + ((7/8)**2))) "
   ]
  },
  {
   "cell_type": "code",
   "execution_count": 66,
   "id": "a259b145-a6ae-45a3-b5a0-2f2065b1cbf9",
   "metadata": {},
   "outputs": [
    {
     "data": {
      "text/plain": [
       "0.46875"
      ]
     },
     "execution_count": 66,
     "metadata": {},
     "output_type": "execute_result"
    }
   ],
   "source": [
    "(1- (((3/8)**2) + (5/8)**2)) "
   ]
  },
  {
   "cell_type": "code",
   "execution_count": 10,
   "id": "af0fb607-aece-44e4-87ab-4d258eb8fae0",
   "metadata": {},
   "outputs": [
    {
     "ename": "TypeError",
     "evalue": "enumerate() missing required argument 'iterable' (pos 1)",
     "output_type": "error",
     "traceback": [
      "\u001b[1;31m---------------------------------------------------------------------------\u001b[0m",
      "\u001b[1;31mTypeError\u001b[0m                                 Traceback (most recent call last)",
      "\u001b[1;32m<ipython-input-10-b5fa578ce689>\u001b[0m in \u001b[0;36m<module>\u001b[1;34m\u001b[0m\n\u001b[0;32m      1\u001b[0m \u001b[0marray\u001b[0m \u001b[1;33m=\u001b[0m \u001b[1;33m[\u001b[0m\u001b[1;36m3\u001b[0m\u001b[1;33m,\u001b[0m \u001b[1;36m29\u001b[0m\u001b[1;33m,\u001b[0m \u001b[1;36m38\u001b[0m\u001b[1;33m,\u001b[0m \u001b[1;36m12\u001b[0m\u001b[1;33m,\u001b[0m \u001b[1;36m57\u001b[0m\u001b[1;33m,\u001b[0m \u001b[1;36m74\u001b[0m\u001b[1;33m,\u001b[0m \u001b[1;36m40\u001b[0m\u001b[1;33m,\u001b[0m \u001b[1;36m85\u001b[0m\u001b[1;33m,\u001b[0m \u001b[1;36m61\u001b[0m\u001b[1;33m]\u001b[0m\u001b[1;33m\u001b[0m\u001b[1;33m\u001b[0m\u001b[0m\n\u001b[0;32m      2\u001b[0m \u001b[1;33m\u001b[0m\u001b[0m\n\u001b[1;32m----> 3\u001b[1;33m \u001b[0mprint\u001b[0m\u001b[1;33m(\u001b[0m\u001b[0menumerate\u001b[0m\u001b[1;33m(\u001b[0m\u001b[1;33m)\u001b[0m\u001b[1;33m)\u001b[0m\u001b[1;33m\u001b[0m\u001b[1;33m\u001b[0m\u001b[0m\n\u001b[0m",
      "\u001b[1;31mTypeError\u001b[0m: enumerate() missing required argument 'iterable' (pos 1)"
     ]
    }
   ],
   "source": [
    "array = [3, 29, 38, 12, 57, 74, 40, 85, 61]\n",
    "\n",
    "print(enumerate())"
   ]
  },
  {
   "cell_type": "markdown",
   "id": "01228a3f-0814-4a38-9b52-52a061bd01d3",
   "metadata": {},
   "source": [
    "### "
   ]
  },
  {
   "cell_type": "code",
   "execution_count": 13,
   "id": "959d2eca-e59a-451c-ad8a-226bf017e7f1",
   "metadata": {},
   "outputs": [
    {
     "name": "stdin",
     "output_type": "stream",
     "text": [
      " 2\n"
     ]
    },
    {
     "name": "stdout",
     "output_type": "stream",
     "text": [
      "2 * 1 = 2\n",
      "2 * 2 = 4\n",
      "2 * 3 = 6\n",
      "2 * 4 = 8\n",
      "2 * 5 = 10\n",
      "2 * 6 = 12\n",
      "2 * 7 = 14\n",
      "2 * 8 = 16\n",
      "2 * 9 = 18\n"
     ]
    }
   ],
   "source": [
    "n = int(input())\n",
    "\n",
    "for i in range(1,10):\n",
    "    print(n,'*' ,i,'=', n*i)"
   ]
  },
  {
   "cell_type": "code",
   "execution_count": null,
   "id": "53dc7855-289b-4554-85eb-bf79128dd9d9",
   "metadata": {},
   "outputs": [],
   "source": []
  },
  {
   "cell_type": "code",
   "execution_count": 16,
   "id": "d66e0115-2ee7-4d64-9ef7-5d910b44d7cf",
   "metadata": {},
   "outputs": [
    {
     "name": "stdin",
     "output_type": "stream",
     "text": [
      " 5\n",
      " 1 1\n"
     ]
    },
    {
     "name": "stdout",
     "output_type": "stream",
     "text": [
      "2\n"
     ]
    },
    {
     "name": "stdin",
     "output_type": "stream",
     "text": [
      " 2 3\n"
     ]
    },
    {
     "name": "stdout",
     "output_type": "stream",
     "text": [
      "5\n"
     ]
    },
    {
     "name": "stdin",
     "output_type": "stream",
     "text": [
      " 3 4\n"
     ]
    },
    {
     "name": "stdout",
     "output_type": "stream",
     "text": [
      "7\n"
     ]
    },
    {
     "name": "stdin",
     "output_type": "stream",
     "text": [
      " 9 8\n"
     ]
    },
    {
     "name": "stdout",
     "output_type": "stream",
     "text": [
      "17\n"
     ]
    },
    {
     "name": "stdin",
     "output_type": "stream",
     "text": [
      " 5 2\n"
     ]
    },
    {
     "name": "stdout",
     "output_type": "stream",
     "text": [
      "7\n"
     ]
    }
   ],
   "source": [
    "n = int(input())\n",
    "for _ in range(n):\n",
    "#     print(map(int, input().split()))\n",
    "    a, b = map(int, input().split())\n",
    "    print(a + b)"
   ]
  },
  {
   "cell_type": "markdown",
   "id": "02a89f66-c69e-4a9b-b316-abef99a9ca30",
   "metadata": {},
   "source": [
    "### 8393번 "
   ]
  },
  {
   "cell_type": "code",
   "execution_count": 19,
   "id": "9e7ef788-e225-4d35-ab78-46a660279628",
   "metadata": {},
   "outputs": [
    {
     "name": "stdin",
     "output_type": "stream",
     "text": [
      " 3\n"
     ]
    },
    {
     "name": "stdout",
     "output_type": "stream",
     "text": [
      "6\n"
     ]
    }
   ],
   "source": [
    "n = int(input())\n",
    "\n",
    "result = 0 \n",
    "for i in range(1,n+1):\n",
    "    result += i\n",
    "print(result)"
   ]
  },
  {
   "cell_type": "markdown",
   "id": "eab4cb77-0248-4517-8606-50d323fbeb57",
   "metadata": {},
   "source": [
    "### 25304번"
   ]
  },
  {
   "cell_type": "code",
   "execution_count": 3,
   "id": "17559b2e-c9dc-4981-a2e0-5e5aef0fe65a",
   "metadata": {},
   "outputs": [
    {
     "name": "stdin",
     "output_type": "stream",
     "text": [
      " 260000\n",
      " 4\n",
      " 20000 5\n",
      " 30000 2\n",
      " 10000 6\n",
      " 5000 8\n"
     ]
    },
    {
     "name": "stdout",
     "output_type": "stream",
     "text": [
      "YES\n"
     ]
    }
   ],
   "source": [
    "n = int(input())\n",
    "m = int(input())\n",
    "result = 0\n",
    "for _ in range(m):\n",
    "    amount, units = input().split()\n",
    "    amount, units = int(amount), int(units)\n",
    "    \n",
    "    result = result + (amount * units)\n",
    "#     print(result)\n",
    "\n",
    "if n == result:\n",
    "    print('YES')\n",
    "else:\n",
    "    print('NO')"
   ]
  },
  {
   "cell_type": "code",
   "execution_count": 11,
   "id": "6cc3473e-bb2b-444f-bf13-a5512b257605",
   "metadata": {},
   "outputs": [
    {
     "name": "stdin",
     "output_type": "stream",
     "text": [
      " 260000\n",
      " 4\n",
      " 20000 5\n",
      " 30000 2\n",
      " 10000 6\n",
      " 5000 8\n"
     ]
    },
    {
     "name": "stdout",
     "output_type": "stream",
     "text": [
      "Yes\n"
     ]
    }
   ],
   "source": [
    "n = int(input())\n",
    "m = int(input())\n",
    "\n",
    "total_amount = 0\n",
    "for i in range(m):\n",
    "    amount, units = input().split()\n",
    "    amount, units = int(amount), int(units)\n",
    "    \n",
    "    total_amount = total_amount + (amount*units)\n",
    "    \n",
    "if total_amount == n:\n",
    "    print('Yes')\n",
    "else : \n",
    "    print('NO')"
   ]
  },
  {
   "cell_type": "markdown",
   "id": "4371818d-1289-4665-a085-a5e5701074b1",
   "metadata": {},
   "source": [
    "### 15552번"
   ]
  },
  {
   "cell_type": "code",
   "execution_count": null,
   "id": "50af05e3-03f4-454f-b0df-e5b8eb4f00c6",
   "metadata": {},
   "outputs": [],
   "source": [
    "import sys\n",
    "n = int(sys.stdin.readline())\n",
    "\n",
    "for _ in range(n):\n",
    "    a,b = map(int, sys.stdin.readline().split())\n",
    "    print(a+b)\n"
   ]
  },
  {
   "cell_type": "markdown",
   "id": "70fabf45-5b76-4750-821c-fd6282dc7246",
   "metadata": {},
   "source": [
    "## 11021번"
   ]
  },
  {
   "cell_type": "code",
   "execution_count": 17,
   "id": "b966120a-462d-4163-a4ac-b53f922de484",
   "metadata": {},
   "outputs": [
    {
     "name": "stdin",
     "output_type": "stream",
     "text": [
      " 5\n",
      " 1 1\n"
     ]
    },
    {
     "name": "stdout",
     "output_type": "stream",
     "text": [
      "Case #1: 2\n"
     ]
    },
    {
     "name": "stdin",
     "output_type": "stream",
     "text": [
      " 2 3\n"
     ]
    },
    {
     "name": "stdout",
     "output_type": "stream",
     "text": [
      "Case #2: 5\n"
     ]
    },
    {
     "name": "stdin",
     "output_type": "stream",
     "text": [
      " 3 4\n"
     ]
    },
    {
     "name": "stdout",
     "output_type": "stream",
     "text": [
      "Case #3: 7\n"
     ]
    },
    {
     "name": "stdin",
     "output_type": "stream",
     "text": [
      " 9 8\n"
     ]
    },
    {
     "name": "stdout",
     "output_type": "stream",
     "text": [
      "Case #4: 17\n"
     ]
    },
    {
     "name": "stdin",
     "output_type": "stream",
     "text": [
      " 5 2\n"
     ]
    },
    {
     "name": "stdout",
     "output_type": "stream",
     "text": [
      "Case #5: 7\n"
     ]
    }
   ],
   "source": [
    "import sys\n",
    "n = int(sys.stdin.readline())\n",
    "\n",
    "for i in range(1,n+1):\n",
    "    a , b = map(int,input().split())\n",
    "    c = int(i)\n",
    "    result = a + b\n",
    "    \n",
    "    print(f'Case #{c}: {result}')"
   ]
  },
  {
   "cell_type": "markdown",
   "id": "41f3e39a-1ffe-4e33-95bd-7f9f1e616ed5",
   "metadata": {},
   "source": [
    "## 11022번"
   ]
  },
  {
   "cell_type": "code",
   "execution_count": 19,
   "id": "c3868fa2-cfb8-426b-9eaa-f26740d9d588",
   "metadata": {},
   "outputs": [
    {
     "name": "stdin",
     "output_type": "stream",
     "text": [
      " 5\n",
      " 1 1\n"
     ]
    },
    {
     "name": "stdout",
     "output_type": "stream",
     "text": [
      "Case #1: 1 + 1 = 2\n"
     ]
    },
    {
     "name": "stdin",
     "output_type": "stream",
     "text": [
      " 2 3\n"
     ]
    },
    {
     "name": "stdout",
     "output_type": "stream",
     "text": [
      "Case #2: 2 + 3 = 5\n"
     ]
    },
    {
     "name": "stdin",
     "output_type": "stream",
     "text": [
      " 3 4\n"
     ]
    },
    {
     "name": "stdout",
     "output_type": "stream",
     "text": [
      "Case #3: 3 + 4 = 7\n"
     ]
    },
    {
     "name": "stdin",
     "output_type": "stream",
     "text": [
      " 9 8\n"
     ]
    },
    {
     "name": "stdout",
     "output_type": "stream",
     "text": [
      "Case #4: 9 + 8 = 17\n"
     ]
    },
    {
     "name": "stdin",
     "output_type": "stream",
     "text": [
      " 5 2\n"
     ]
    },
    {
     "name": "stdout",
     "output_type": "stream",
     "text": [
      "Case #5: 5 + 2 = 7\n"
     ]
    }
   ],
   "source": [
    "n = int(input())\n",
    "\n",
    "for i in range(1 , n+1):\n",
    "    a,b = map(int, input().split())\n",
    "    result = a + b\n",
    "    \n",
    "    print(f'Case #{i}: {a} + {b} = {result}')"
   ]
  },
  {
   "cell_type": "markdown",
   "id": "79e9428a-6448-4af9-bd14-7bfd9088b6b2",
   "metadata": {
    "tags": []
   },
   "source": [
    "## 별찍기"
   ]
  },
  {
   "cell_type": "code",
   "execution_count": 21,
   "id": "49dd00d1-3b44-4250-8a27-3059acea0ff7",
   "metadata": {},
   "outputs": [
    {
     "name": "stdin",
     "output_type": "stream",
     "text": [
      " 5\n"
     ]
    },
    {
     "name": "stdout",
     "output_type": "stream",
     "text": [
      "*\n",
      "**\n",
      "***\n",
      "****\n",
      "*****\n"
     ]
    }
   ],
   "source": [
    "n = int(input())\n",
    "\n",
    "for i in range(1, n + 1):\n",
    "    print('*'*i)"
   ]
  },
  {
   "cell_type": "markdown",
   "id": "cfa0d56a-fa97-44cf-bf0b-d6f15bc042c8",
   "metadata": {},
   "source": [
    "## 10871번"
   ]
  },
  {
   "cell_type": "code",
   "execution_count": 24,
   "id": "a652d722-78e5-44c6-817a-3c5660cfb6ad",
   "metadata": {},
   "outputs": [
    {
     "name": "stdin",
     "output_type": "stream",
     "text": [
      " 10 5\n",
      " 1 10 4 9 2 3 8 5 7 6\n"
     ]
    },
    {
     "ename": "TypeError",
     "evalue": "'list' object cannot be interpreted as an integer",
     "output_type": "error",
     "traceback": [
      "\u001b[1;31m---------------------------------------------------------------------------\u001b[0m",
      "\u001b[1;31mTypeError\u001b[0m                                 Traceback (most recent call last)",
      "\u001b[1;32m<ipython-input-24-91b83284c58a>\u001b[0m in \u001b[0;36m<module>\u001b[1;34m\u001b[0m\n\u001b[0;32m      3\u001b[0m \u001b[0mn\u001b[0m \u001b[1;33m=\u001b[0m \u001b[0mlist\u001b[0m\u001b[1;33m(\u001b[0m\u001b[0mmap\u001b[0m\u001b[1;33m(\u001b[0m\u001b[0mint\u001b[0m\u001b[1;33m,\u001b[0m \u001b[0minput\u001b[0m\u001b[1;33m(\u001b[0m\u001b[1;33m)\u001b[0m\u001b[1;33m.\u001b[0m\u001b[0msplit\u001b[0m\u001b[1;33m(\u001b[0m\u001b[1;33m)\u001b[0m\u001b[1;33m)\u001b[0m\u001b[1;33m)\u001b[0m\u001b[1;33m\u001b[0m\u001b[1;33m\u001b[0m\u001b[0m\n\u001b[0;32m      4\u001b[0m \u001b[1;33m\u001b[0m\u001b[0m\n\u001b[1;32m----> 5\u001b[1;33m \u001b[1;32mfor\u001b[0m \u001b[0mi\u001b[0m \u001b[1;32min\u001b[0m \u001b[0mrange\u001b[0m\u001b[1;33m(\u001b[0m\u001b[0mn\u001b[0m\u001b[1;33m)\u001b[0m\u001b[1;33m:\u001b[0m\u001b[1;33m\u001b[0m\u001b[1;33m\u001b[0m\u001b[0m\n\u001b[0m\u001b[0;32m      6\u001b[0m     \u001b[1;32mif\u001b[0m \u001b[0mn\u001b[0m\u001b[1;33m[\u001b[0m\u001b[0mi\u001b[0m\u001b[1;33m]\u001b[0m \u001b[1;33m<\u001b[0m \u001b[0mb\u001b[0m\u001b[1;33m:\u001b[0m\u001b[1;33m\u001b[0m\u001b[1;33m\u001b[0m\u001b[0m\n\u001b[0;32m      7\u001b[0m         \u001b[0mprint\u001b[0m\u001b[1;33m(\u001b[0m\u001b[0mn\u001b[0m\u001b[1;33m[\u001b[0m\u001b[0mi\u001b[0m\u001b[1;33m]\u001b[0m\u001b[1;33m,\u001b[0m \u001b[0mend\u001b[0m \u001b[1;33m=\u001b[0m \u001b[1;34m' '\u001b[0m\u001b[1;33m)\u001b[0m\u001b[1;33m\u001b[0m\u001b[1;33m\u001b[0m\u001b[0m\n",
      "\u001b[1;31mTypeError\u001b[0m: 'list' object cannot be interpreted as an integer"
     ]
    }
   ],
   "source": [
    "a, b = map(int, input().split())\n",
    "\n",
    "n = list(map(int, input().split()))\n",
    "\n",
    "for i in range(n):\n",
    "    if n[i] < b:\n",
    "        print(n[i], end = ' ')"
   ]
  },
  {
   "cell_type": "code",
   "execution_count": null,
   "id": "0114277a-47ef-4c83-96ed-3a4d745205b4",
   "metadata": {},
   "outputs": [],
   "source": []
  }
 ],
 "metadata": {
  "kernelspec": {
   "display_name": "Python 3",
   "language": "python",
   "name": "python3"
  },
  "language_info": {
   "codemirror_mode": {
    "name": "ipython",
    "version": 3
   },
   "file_extension": ".py",
   "mimetype": "text/x-python",
   "name": "python",
   "nbconvert_exporter": "python",
   "pygments_lexer": "ipython3",
   "version": "3.8.8"
  }
 },
 "nbformat": 4,
 "nbformat_minor": 5
}
